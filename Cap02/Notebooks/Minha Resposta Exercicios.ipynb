{
 "cells": [
  {
   "cell_type": "code",
   "execution_count": 1,
   "id": "41e82609",
   "metadata": {},
   "outputs": [],
   "source": [
    "# ex1"
   ]
  },
  {
   "cell_type": "code",
   "execution_count": 2,
   "id": "91d29020",
   "metadata": {},
   "outputs": [
    {
     "name": "stdout",
     "output_type": "stream",
     "text": [
      "[1, 2, 3, 4, 5, 6, 7, 8, 9, 10]\n"
     ]
    }
   ],
   "source": [
    "list1 = [1,2,3,4,5,6,7,8,9,10]\n",
    "print(list1)"
   ]
  },
  {
   "cell_type": "code",
   "execution_count": 4,
   "id": "3e30879e",
   "metadata": {},
   "outputs": [],
   "source": [
    "#ex2"
   ]
  },
  {
   "cell_type": "code",
   "execution_count": 5,
   "id": "c8240075",
   "metadata": {},
   "outputs": [
    {
     "name": "stdout",
     "output_type": "stream",
     "text": [
      "['daniel', 20, '01/09/2002', 'masculino', 'SP']\n"
     ]
    }
   ],
   "source": [
    "listobjs = [\"daniel\", 20, \"01/09/2002\", \"masculino\", \"SP\"]\n",
    "print(listobjs)"
   ]
  },
  {
   "cell_type": "code",
   "execution_count": 6,
   "id": "7bbc7f07",
   "metadata": {},
   "outputs": [],
   "source": [
    "#ex3"
   ]
  },
  {
   "cell_type": "code",
   "execution_count": 7,
   "id": "939415e0",
   "metadata": {},
   "outputs": [
    {
     "name": "stdout",
     "output_type": "stream",
     "text": [
      "Daniel Arruda Santos\n"
     ]
    }
   ],
   "source": [
    "nome = \"Daniel\"\n",
    "ultimoNome = \"Santos\"\n",
    "print(nome + \" Arruda \" + ultimoNome)"
   ]
  },
  {
   "cell_type": "code",
   "execution_count": 8,
   "id": "ade5c4bd",
   "metadata": {},
   "outputs": [],
   "source": [
    "#ex4"
   ]
  },
  {
   "cell_type": "code",
   "execution_count": 12,
   "id": "59e0e1f9",
   "metadata": {},
   "outputs": [
    {
     "name": "stdout",
     "output_type": "stream",
     "text": [
      "3\n"
     ]
    }
   ],
   "source": [
    "tupla = (1, 2, 2, 3, 4, 4, 4, 5)\n",
    "print(tupla.count(4))"
   ]
  },
  {
   "cell_type": "code",
   "execution_count": 13,
   "id": "ae9cd88c",
   "metadata": {},
   "outputs": [],
   "source": [
    "#ex5"
   ]
  },
  {
   "cell_type": "code",
   "execution_count": 14,
   "id": "e67486f7",
   "metadata": {},
   "outputs": [
    {
     "name": "stdout",
     "output_type": "stream",
     "text": [
      "{}\n"
     ]
    }
   ],
   "source": [
    "dic = {}\n",
    "print(dic)"
   ]
  },
  {
   "cell_type": "code",
   "execution_count": 15,
   "id": "91ec511e",
   "metadata": {},
   "outputs": [],
   "source": [
    "#ex6"
   ]
  },
  {
   "cell_type": "code",
   "execution_count": 19,
   "id": "22f097a2",
   "metadata": {},
   "outputs": [
    {
     "name": "stdout",
     "output_type": "stream",
     "text": [
      "{'key1': 'value1', 'key2': 'value2', 'key3': 'value3'}\n"
     ]
    }
   ],
   "source": [
    "dic = {'key1': 'value1', 'key2': 'value2', 'key3': 'value3'}\n",
    "print (dic)"
   ]
  },
  {
   "cell_type": "code",
   "execution_count": 20,
   "id": "e3228838",
   "metadata": {},
   "outputs": [],
   "source": [
    "#ex7"
   ]
  },
  {
   "cell_type": "code",
   "execution_count": 21,
   "id": "be2b98d1",
   "metadata": {},
   "outputs": [
    {
     "name": "stdout",
     "output_type": "stream",
     "text": [
      "{'key1': 'value1', 'key2': 'value2', 'key3': 'value3', 'key4': 'value4'}\n"
     ]
    }
   ],
   "source": [
    "dic[\"key4\"] = \"value4\"\n",
    "print(dic)"
   ]
  },
  {
   "cell_type": "code",
   "execution_count": 27,
   "id": "2a8dae24",
   "metadata": {},
   "outputs": [],
   "source": [
    "#ex8\n"
   ]
  },
  {
   "cell_type": "code",
   "execution_count": 29,
   "id": "2d1f9684",
   "metadata": {},
   "outputs": [
    {
     "name": "stdout",
     "output_type": "stream",
     "text": [
      "{'key1': 'value1', 'key2': 'value2', 'list': [1, 2, 3]}\n"
     ]
    }
   ],
   "source": [
    "dic2 = {\"key1\": \"value1\",\"key2\": \"value2\",  \"list\":[1,2,3]}\n",
    "print(dic2)"
   ]
  },
  {
   "cell_type": "code",
   "execution_count": 30,
   "id": "c25eb283",
   "metadata": {},
   "outputs": [],
   "source": [
    "#ex9"
   ]
  },
  {
   "cell_type": "code",
   "execution_count": 31,
   "id": "e943aba9",
   "metadata": {},
   "outputs": [
    {
     "name": "stdout",
     "output_type": "stream",
     "text": [
      "['Daniel', (1, 2), {'key1': 'value1', 'key2': 'value2'}, 4, 13]\n"
     ]
    }
   ],
   "source": [
    "listTudo = [\"Daniel\", (1,2), {\"key1\": \"value1\",\"key2\": \"value2\"}, 4,13 ]\n",
    "print(listTudo)"
   ]
  },
  {
   "cell_type": "code",
   "execution_count": 39,
   "id": "a6f68f5d",
   "metadata": {},
   "outputs": [
    {
     "name": "stdout",
     "output_type": "stream",
     "text": [
      "Cientista de Dados\n"
     ]
    },
    {
     "data": {
      "text/plain": [
       "str"
      ]
     },
     "execution_count": 39,
     "metadata": {},
     "output_type": "execute_result"
    }
   ],
   "source": [
    "frase = 'Cientista de Dados é o profissional mais sexy do século XXI'\n",
    "frase = frase[0:18]\n",
    "print(frase)"
   ]
  },
  {
   "cell_type": "code",
   "execution_count": null,
   "id": "155ac8a0",
   "metadata": {},
   "outputs": [],
   "source": []
  }
 ],
 "metadata": {
  "kernelspec": {
   "display_name": "Python 3 (ipykernel)",
   "language": "python",
   "name": "python3"
  },
  "language_info": {
   "codemirror_mode": {
    "name": "ipython",
    "version": 3
   },
   "file_extension": ".py",
   "mimetype": "text/x-python",
   "name": "python",
   "nbconvert_exporter": "python",
   "pygments_lexer": "ipython3",
   "version": "3.9.13"
  }
 },
 "nbformat": 4,
 "nbformat_minor": 5
}
